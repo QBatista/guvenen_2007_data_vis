{
 "cells": [
  {
   "cell_type": "code",
   "execution_count": 16,
   "metadata": {},
   "outputs": [],
   "source": [
    "# Import packages\n",
    "import pandas as pd\n",
    "import numpy as np\n",
    "import matplotlib.pyplot as plt\n",
    "import mpl_toolkits.mplot3d\n",
    "import matplotlib\n",
    "from ipywidgets import interactive_output\n",
    "import ipywidgets as widgets\n",
    "from IPython.core.display import display"
   ]
  },
  {
   "cell_type": "code",
   "execution_count": 17,
   "metadata": {},
   "outputs": [],
   "source": [
    "matplotlib.rcParams['axes.labelpad'] = 20\n",
    "\n",
    "\n",
    "# Import dataset\n",
    "df = pd.read_csv(\"cexdataweb.csv\")\n",
    "employed = df.refhpw > 0.  # Only keep data with positive work hours per week"
   ]
  },
  {
   "cell_type": "code",
   "execution_count": 18,
   "metadata": {},
   "outputs": [
    {
     "data": {
      "application/vnd.jupyter.widget-view+json": {
       "model_id": "894622e3040541a2a4a3380a3561a40a",
       "version_major": 2,
       "version_minor": 0
      },
      "text/plain": [
       "HBox(children=(IntSlider(value=25, description='age', max=94, min=14), FloatSlider(value=20000.0, description=…"
      ]
     },
     "metadata": {},
     "output_type": "display_data"
    },
    {
     "data": {
      "application/vnd.jupyter.widget-view+json": {
       "model_id": "655b278fda7a42d6ac2f65afedac233c",
       "version_major": 2,
       "version_minor": 0
      },
      "text/plain": [
       "Output()"
      ]
     },
     "metadata": {},
     "output_type": "display_data"
    }
   ],
   "source": [
    "def plot(age, max_cons, max_hour):\n",
    "    # Data wrangling\n",
    "    df_by_age = df[(df.refage == age) & employed]  # Condition on age and positive works hours per week\n",
    "    hourly_salary = df_by_age.refwp / df_by_age.refhpw  # Compute hourly salary as measure of productivity\n",
    "    cond_max_cons = df_by_age.texp1 < max_cons  # Condition: total expenditure < max_cons\n",
    "    cond_max_hour = hourly_salary < max_hour  # Condition: max hourly salary < max_hour\n",
    "    cond_max = (cond_max_cons) & (cond_max_hour)  # Combine conditions\n",
    "    \n",
    "    # Apply conditions to data\n",
    "    hourly_salary = hourly_salary[cond_max] \n",
    "    cons = df_by_age.texp1[cond_max]\n",
    "\n",
    "    # Create histogram\n",
    "    nb_obs = hourly_salary.size\n",
    "    hist, xedges, yedges = np.histogram2d(cons, hourly_salary, bins=20)\n",
    "    hist = hist / nb_obs\n",
    "\n",
    "    X, Y = np.meshgrid((yedges[:-1] + yedges[1:]) / 2., (xedges[:-1] + xedges[1:]) / 2.)\n",
    "\n",
    "    # Create plot\n",
    "    fig = plt.figure(figsize=(14, 10))\n",
    "    ax = fig.add_subplot(111, projection='3d')\n",
    "    \n",
    "    ax.plot_wireframe(X, Y, hist, color='b')\n",
    "\n",
    "    ax.set_xlabel(r'hourly wage')\n",
    "    ax.set_ylabel(r'total expenditure')\n",
    "    ax.set_zlabel(r'probability mass for age %i' % age)\n",
    "    ax.set_title(r'number of observations %i' % nb_obs)\n",
    "    \n",
    "    plt.show();\n",
    "    \n",
    "\n",
    "age = widgets.IntSlider(min=df.refage.min(), max=df.refage.max(), step=1, value=25, description='age')\n",
    "max_cons = widgets.FloatSlider(min=0., max=40000, step=100., value=20000, description='max_cons')\n",
    "max_hour = widgets.FloatSlider(min=0., max=200, step=10., value=100, description='max_hour')\n",
    "\n",
    "ui = widgets.HBox([age, max_cons, max_hour])\n",
    "    \n",
    "controls = {'age': age,\n",
    "           'max_cons': max_cons,\n",
    "           'max_hour': max_hour}\n",
    "\n",
    "hh = interactive_output(plot, controls)\n",
    "\n",
    "display(ui, hh)"
   ]
  },
  {
   "cell_type": "code",
   "execution_count": 19,
   "metadata": {},
   "outputs": [
    {
     "data": {
      "application/vnd.jupyter.widget-view+json": {
       "model_id": "e1c1e6f910204bbdb2b0e7ed5da7ca72",
       "version_major": 2,
       "version_minor": 0
      },
      "text/plain": [
       "HBox(children=(IntSlider(value=25, description='age', max=94, min=14), FloatSlider(value=500000.0, description…"
      ]
     },
     "metadata": {},
     "output_type": "display_data"
    },
    {
     "data": {
      "application/vnd.jupyter.widget-view+json": {
       "model_id": "f822e20cc6fa41c38bb2446031a029b7",
       "version_major": 2,
       "version_minor": 0
      },
      "text/plain": [
       "Output()"
      ]
     },
     "metadata": {},
     "output_type": "display_data"
    }
   ],
   "source": [
    "def plot(age, max_wea, max_hour):\n",
    "    df_by_age = df[(df.refage == age) & employed]  # Condition on age and positive works hours per week\n",
    "    hourly_salary = df_by_age.refwp / df_by_age.refhpw  # Compute hourly salary as measure of productivity\n",
    "    total_wealth = df_by_age.finwea + df_by_age.propval  # Compute total wealth < max_cons\n",
    "    cond_max_wea = (0. < total_wealth) &  (total_wealth < max_wea)  # Condition: 0. < total wealth < max_cons\n",
    "    cond_max_hour = hourly_salary < max_hour  # Condition: max hourly salary < max_hour\n",
    "    cond_max = (cond_max_wea) & (cond_max_hour)  # Combine conditions\n",
    "    \n",
    "    # Apply conditions to data\n",
    "    hourly_salary = hourly_salary[cond_max]    \n",
    "    total_wealth = total_wealth[cond_max]\n",
    "\n",
    "    # Create histogram\n",
    "    nb_obs = hourly_salary.size\n",
    "    hist, xedges, yedges = np.histogram2d(total_wealth, hourly_salary, bins=20)\n",
    "    hist = hist / nb_obs\n",
    "\n",
    "    X, Y = np.meshgrid((yedges[:-1] + yedges[1:]) / 2., (xedges[:-1] + xedges[1:]) / 2.)\n",
    "    \n",
    "    # Create plot\n",
    "    fig = plt.figure(figsize=(14, 10))\n",
    "    ax = fig.add_subplot(111, projection='3d')\n",
    "\n",
    "    ax.plot_wireframe(X, Y, hist, color='b')\n",
    "\n",
    "    ax.set_xlabel(r'hourly wage')\n",
    "    ax.set_ylabel(r'financial wealth')\n",
    "    ax.set_zlabel(r'probability mass for age %i' % age)\n",
    "    ax.set_title(r'number of observations %i' % nb_obs)\n",
    "    \n",
    "    plt.show();\n",
    "    \n",
    "\n",
    "age = widgets.IntSlider(min=df.refage.min(), max=df.refage.max(), step=1, value=25, description='age')\n",
    "max_wea = widgets.FloatSlider(min=0., max=1_000_000., step=100., value=500000., description='max_wea')\n",
    "max_hour = widgets.FloatSlider(min=0., max=200, step=10, value=100., description='max_hour')\n",
    "\n",
    "ui = widgets.HBox([age, max_wea, max_hour])\n",
    "    \n",
    "controls = {'age': age,\n",
    "           'max_wea': max_wea,\n",
    "           'max_hour': max_hour}\n",
    "\n",
    "hh = interactive_output(plot, controls)\n",
    "\n",
    "display(ui, hh)"
   ]
  }
 ],
 "metadata": {
  "kernelspec": {
   "display_name": "Python 3",
   "language": "python",
   "name": "python3"
  },
  "language_info": {
   "codemirror_mode": {
    "name": "ipython",
    "version": 3
   },
   "file_extension": ".py",
   "mimetype": "text/x-python",
   "name": "python",
   "nbconvert_exporter": "python",
   "pygments_lexer": "ipython3",
   "version": "3.7.7"
  }
 },
 "nbformat": 4,
 "nbformat_minor": 4
}
