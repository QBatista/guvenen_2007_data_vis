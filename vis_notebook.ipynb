{
 "cells": [
  {
   "cell_type": "code",
   "execution_count": 1,
   "metadata": {},
   "outputs": [
    {
     "name": "stdout",
     "output_type": "stream",
     "text": [
      "Requirement already satisfied: pandas in /anaconda3/lib/python3.7/site-packages (1.0.3)\n",
      "Requirement already satisfied: matplotlib in /anaconda3/lib/python3.7/site-packages (3.1.3)\n",
      "Requirement already satisfied: ipywidgets in /anaconda3/lib/python3.7/site-packages (7.5.1)\n",
      "Requirement already satisfied: pytz>=2017.2 in /anaconda3/lib/python3.7/site-packages (from pandas) (2019.3)\n",
      "Requirement already satisfied: numpy>=1.13.3 in /anaconda3/lib/python3.7/site-packages (from pandas) (1.18.3)\n",
      "Requirement already satisfied: python-dateutil>=2.6.1 in /anaconda3/lib/python3.7/site-packages (from pandas) (2.8.1)\n",
      "Requirement already satisfied: kiwisolver>=1.0.1 in /anaconda3/lib/python3.7/site-packages (from matplotlib) (1.1.0)\n",
      "Requirement already satisfied: cycler>=0.10 in /anaconda3/lib/python3.7/site-packages (from matplotlib) (0.10.0)\n",
      "Requirement already satisfied: pyparsing!=2.0.4,!=2.1.2,!=2.1.6,>=2.0.1 in /anaconda3/lib/python3.7/site-packages (from matplotlib) (2.4.6)\n",
      "Requirement already satisfied: nbformat>=4.2.0 in /anaconda3/lib/python3.7/site-packages (from ipywidgets) (5.0.4)\n",
      "Requirement already satisfied: ipython>=4.0.0; python_version >= \"3.3\" in /anaconda3/lib/python3.7/site-packages (from ipywidgets) (7.13.0)\n",
      "Requirement already satisfied: traitlets>=4.3.1 in /anaconda3/lib/python3.7/site-packages (from ipywidgets) (4.3.3)\n",
      "Requirement already satisfied: ipykernel>=4.5.1 in /anaconda3/lib/python3.7/site-packages (from ipywidgets) (5.1.4)\n",
      "Requirement already satisfied: widgetsnbextension~=3.5.0 in /anaconda3/lib/python3.7/site-packages (from ipywidgets) (3.5.1)\n",
      "Requirement already satisfied: six>=1.5 in /anaconda3/lib/python3.7/site-packages (from python-dateutil>=2.6.1->pandas) (1.14.0)\n",
      "Requirement already satisfied: setuptools in /anaconda3/lib/python3.7/site-packages (from kiwisolver>=1.0.1->matplotlib) (46.1.3.post20200330)\n",
      "Requirement already satisfied: jsonschema!=2.5.0,>=2.4 in /anaconda3/lib/python3.7/site-packages (from nbformat>=4.2.0->ipywidgets) (3.2.0)\n",
      "Requirement already satisfied: ipython-genutils in /anaconda3/lib/python3.7/site-packages (from nbformat>=4.2.0->ipywidgets) (0.2.0)\n",
      "Requirement already satisfied: jupyter-core in /anaconda3/lib/python3.7/site-packages (from nbformat>=4.2.0->ipywidgets) (4.6.3)\n",
      "Requirement already satisfied: prompt-toolkit!=3.0.0,!=3.0.1,<3.1.0,>=2.0.0 in /anaconda3/lib/python3.7/site-packages (from ipython>=4.0.0; python_version >= \"3.3\"->ipywidgets) (3.0.4)\n",
      "Requirement already satisfied: decorator in /anaconda3/lib/python3.7/site-packages (from ipython>=4.0.0; python_version >= \"3.3\"->ipywidgets) (4.4.2)\n",
      "Requirement already satisfied: jedi>=0.10 in /anaconda3/lib/python3.7/site-packages (from ipython>=4.0.0; python_version >= \"3.3\"->ipywidgets) (0.15.2)\n",
      "Requirement already satisfied: appnope; sys_platform == \"darwin\" in /anaconda3/lib/python3.7/site-packages (from ipython>=4.0.0; python_version >= \"3.3\"->ipywidgets) (0.1.0)\n",
      "Requirement already satisfied: pygments in /anaconda3/lib/python3.7/site-packages (from ipython>=4.0.0; python_version >= \"3.3\"->ipywidgets) (2.6.1)\n",
      "Requirement already satisfied: pickleshare in /anaconda3/lib/python3.7/site-packages (from ipython>=4.0.0; python_version >= \"3.3\"->ipywidgets) (0.7.5)\n",
      "Requirement already satisfied: backcall in /anaconda3/lib/python3.7/site-packages (from ipython>=4.0.0; python_version >= \"3.3\"->ipywidgets) (0.1.0)\n",
      "Requirement already satisfied: pexpect; sys_platform != \"win32\" in /anaconda3/lib/python3.7/site-packages (from ipython>=4.0.0; python_version >= \"3.3\"->ipywidgets) (4.8.0)\n",
      "Requirement already satisfied: tornado>=4.2 in /anaconda3/lib/python3.7/site-packages (from ipykernel>=4.5.1->ipywidgets) (6.0.4)\n",
      "Requirement already satisfied: jupyter-client in /anaconda3/lib/python3.7/site-packages (from ipykernel>=4.5.1->ipywidgets) (6.1.2)\n",
      "Requirement already satisfied: notebook>=4.4.1 in /anaconda3/lib/python3.7/site-packages (from widgetsnbextension~=3.5.0->ipywidgets) (6.0.3)\n",
      "Requirement already satisfied: importlib-metadata; python_version < \"3.8\" in /anaconda3/lib/python3.7/site-packages (from jsonschema!=2.5.0,>=2.4->nbformat>=4.2.0->ipywidgets) (1.5.0)\n",
      "Requirement already satisfied: pyrsistent>=0.14.0 in /anaconda3/lib/python3.7/site-packages (from jsonschema!=2.5.0,>=2.4->nbformat>=4.2.0->ipywidgets) (0.16.0)\n",
      "Requirement already satisfied: attrs>=17.4.0 in /anaconda3/lib/python3.7/site-packages (from jsonschema!=2.5.0,>=2.4->nbformat>=4.2.0->ipywidgets) (19.3.0)\n",
      "Requirement already satisfied: wcwidth in /anaconda3/lib/python3.7/site-packages (from prompt-toolkit!=3.0.0,!=3.0.1,<3.1.0,>=2.0.0->ipython>=4.0.0; python_version >= \"3.3\"->ipywidgets) (0.1.9)\n",
      "Requirement already satisfied: parso>=0.5.2 in /anaconda3/lib/python3.7/site-packages (from jedi>=0.10->ipython>=4.0.0; python_version >= \"3.3\"->ipywidgets) (0.5.2)\n",
      "Requirement already satisfied: ptyprocess>=0.5 in /anaconda3/lib/python3.7/site-packages (from pexpect; sys_platform != \"win32\"->ipython>=4.0.0; python_version >= \"3.3\"->ipywidgets) (0.6.0)\n",
      "Requirement already satisfied: pyzmq>=13 in /anaconda3/lib/python3.7/site-packages (from jupyter-client->ipykernel>=4.5.1->ipywidgets) (18.1.1)\n",
      "Requirement already satisfied: jinja2 in /anaconda3/lib/python3.7/site-packages (from notebook>=4.4.1->widgetsnbextension~=3.5.0->ipywidgets) (2.11.1)\n",
      "Requirement already satisfied: prometheus-client in /anaconda3/lib/python3.7/site-packages (from notebook>=4.4.1->widgetsnbextension~=3.5.0->ipywidgets) (0.7.1)\n",
      "Requirement already satisfied: Send2Trash in /anaconda3/lib/python3.7/site-packages (from notebook>=4.4.1->widgetsnbextension~=3.5.0->ipywidgets) (1.5.0)\n",
      "Requirement already satisfied: terminado>=0.8.1 in /anaconda3/lib/python3.7/site-packages (from notebook>=4.4.1->widgetsnbextension~=3.5.0->ipywidgets) (0.8.3)\n",
      "Requirement already satisfied: nbconvert in /anaconda3/lib/python3.7/site-packages (from notebook>=4.4.1->widgetsnbextension~=3.5.0->ipywidgets) (5.6.1)\n",
      "Requirement already satisfied: zipp>=0.5 in /anaconda3/lib/python3.7/site-packages (from importlib-metadata; python_version < \"3.8\"->jsonschema!=2.5.0,>=2.4->nbformat>=4.2.0->ipywidgets) (2.2.0)\n",
      "Requirement already satisfied: MarkupSafe>=0.23 in /anaconda3/lib/python3.7/site-packages (from jinja2->notebook>=4.4.1->widgetsnbextension~=3.5.0->ipywidgets) (1.1.1)\n",
      "Requirement already satisfied: bleach in /anaconda3/lib/python3.7/site-packages (from nbconvert->notebook>=4.4.1->widgetsnbextension~=3.5.0->ipywidgets) (3.1.0)\n",
      "Requirement already satisfied: mistune<2,>=0.8.1 in /anaconda3/lib/python3.7/site-packages (from nbconvert->notebook>=4.4.1->widgetsnbextension~=3.5.0->ipywidgets) (0.8.4)\n",
      "Requirement already satisfied: entrypoints>=0.2.2 in /anaconda3/lib/python3.7/site-packages (from nbconvert->notebook>=4.4.1->widgetsnbextension~=3.5.0->ipywidgets) (0.3)\n",
      "Requirement already satisfied: defusedxml in /anaconda3/lib/python3.7/site-packages (from nbconvert->notebook>=4.4.1->widgetsnbextension~=3.5.0->ipywidgets) (0.6.0)\n",
      "Requirement already satisfied: pandocfilters>=1.4.1 in /anaconda3/lib/python3.7/site-packages (from nbconvert->notebook>=4.4.1->widgetsnbextension~=3.5.0->ipywidgets) (1.4.2)\n",
      "Requirement already satisfied: testpath in /anaconda3/lib/python3.7/site-packages (from nbconvert->notebook>=4.4.1->widgetsnbextension~=3.5.0->ipywidgets) (0.4.4)\n",
      "Requirement already satisfied: webencodings in /anaconda3/lib/python3.7/site-packages (from bleach->nbconvert->notebook>=4.4.1->widgetsnbextension~=3.5.0->ipywidgets) (0.5.1)\n"
     ]
    }
   ],
   "source": [
    "!pip install pandas matplotlib ipywidgets"
   ]
  },
  {
   "cell_type": "code",
   "execution_count": 2,
   "metadata": {},
   "outputs": [],
   "source": [
    "# Import packages\n",
    "import pandas as pd\n",
    "import numpy as np\n",
    "import matplotlib.pyplot as plt\n",
    "import mpl_toolkits.mplot3d\n",
    "import matplotlib\n",
    "from ipywidgets import interactive_output\n",
    "import ipywidgets as widgets\n",
    "from IPython.core.display import display"
   ]
  },
  {
   "cell_type": "code",
   "execution_count": 3,
   "metadata": {},
   "outputs": [],
   "source": [
    "matplotlib.rcParams['axes.labelpad'] = 20\n",
    "\n",
    "\n",
    "# Import dataset\n",
    "df = pd.read_csv(\"cexdataweb.csv\")\n",
    "employed = df.refhpw > 0.  # Only keep data with positive work hours per week"
   ]
  },
  {
   "cell_type": "code",
   "execution_count": 4,
   "metadata": {},
   "outputs": [
    {
     "data": {
      "application/vnd.jupyter.widget-view+json": {
       "model_id": "ada35c5bb4c44742b1eca032ea712ed8",
       "version_major": 2,
       "version_minor": 0
      },
      "text/plain": [
       "HBox(children=(IntSlider(value=25, description='age', max=94, min=14), FloatSlider(value=20000.0, description=…"
      ]
     },
     "metadata": {},
     "output_type": "display_data"
    },
    {
     "data": {
      "application/vnd.jupyter.widget-view+json": {
       "model_id": "0fcc7b39ca0645f0aab6f88f968b416b",
       "version_major": 2,
       "version_minor": 0
      },
      "text/plain": [
       "Output()"
      ]
     },
     "metadata": {},
     "output_type": "display_data"
    }
   ],
   "source": [
    "def plot(age, max_cons, max_hour):\n",
    "    # Data wrangling\n",
    "    df_by_age = df[(df.refage == age) & employed]  # Condition on age and positive works hours per week\n",
    "    hourly_salary = df_by_age.refwp / df_by_age.refhpw  # Compute hourly salary as measure of productivity\n",
    "    cond_max_cons = df_by_age.texp1 < max_cons  # Condition: total expenditure < max_cons\n",
    "    cond_max_hour = hourly_salary < max_hour  # Condition: max hourly salary < max_hour\n",
    "    cond_max = (cond_max_cons) & (cond_max_hour)  # Combine conditions\n",
    "    \n",
    "    # Apply conditions to data\n",
    "    hourly_salary = hourly_salary[cond_max] \n",
    "    cons = df_by_age.texp1[cond_max]\n",
    "\n",
    "    # Create histogram\n",
    "    nb_obs = hourly_salary.size\n",
    "    hist, xedges, yedges = np.histogram2d(cons, hourly_salary, bins=20)\n",
    "    hist = hist / nb_obs\n",
    "\n",
    "    X, Y = np.meshgrid((yedges[:-1] + yedges[1:]) / 2., (xedges[:-1] + xedges[1:]) / 2.)\n",
    "\n",
    "    # Create plot\n",
    "    fig = plt.figure(figsize=(14, 10))\n",
    "    ax = fig.add_subplot(111, projection='3d')\n",
    "    \n",
    "    ax.plot_wireframe(X, Y, hist, color='b')\n",
    "\n",
    "    ax.set_xlabel(r'hourly wage')\n",
    "    ax.set_ylabel(r'total expenditure')\n",
    "    ax.set_zlabel(r'probability mass for age %i' % age)\n",
    "    ax.set_title(r'number of observations %i' % nb_obs)\n",
    "    \n",
    "    plt.show();\n",
    "    \n",
    "\n",
    "age = widgets.IntSlider(min=df.refage.min(), max=df.refage.max(), step=1, value=25, description='age')\n",
    "max_cons = widgets.FloatSlider(min=0., max=40000, step=100., value=20000, description='max_cons')\n",
    "max_hour = widgets.FloatSlider(min=0., max=200, step=10., value=100, description='max_hour')\n",
    "\n",
    "ui = widgets.HBox([age, max_cons, max_hour])\n",
    "    \n",
    "controls = {'age': age,\n",
    "           'max_cons': max_cons,\n",
    "           'max_hour': max_hour}\n",
    "\n",
    "hh = interactive_output(plot, controls)\n",
    "\n",
    "display(ui, hh)"
   ]
  },
  {
   "cell_type": "code",
   "execution_count": 5,
   "metadata": {},
   "outputs": [
    {
     "data": {
      "application/vnd.jupyter.widget-view+json": {
       "model_id": "b530865824864472b2bc3683d93f957d",
       "version_major": 2,
       "version_minor": 0
      },
      "text/plain": [
       "HBox(children=(IntSlider(value=25, description='age', max=94, min=14), FloatSlider(value=500000.0, description…"
      ]
     },
     "metadata": {},
     "output_type": "display_data"
    },
    {
     "data": {
      "application/vnd.jupyter.widget-view+json": {
       "model_id": "5e5a1be7c0864fccba1e14e364850a84",
       "version_major": 2,
       "version_minor": 0
      },
      "text/plain": [
       "Output()"
      ]
     },
     "metadata": {},
     "output_type": "display_data"
    }
   ],
   "source": [
    "def plot(age, max_wea, max_hour):\n",
    "    df_by_age = df[(df.refage == age) & employed]  # Condition on age and positive works hours per week\n",
    "    hourly_salary = df_by_age.refwp / df_by_age.refhpw  # Compute hourly salary as measure of productivity\n",
    "    total_wealth = df_by_age.finwea + df_by_age.propval  # Compute total wealth < max_cons\n",
    "    cond_max_wea = (0. < total_wealth) &  (total_wealth < max_wea)  # Condition: 0. < total wealth < max_cons\n",
    "    cond_max_hour = hourly_salary < max_hour  # Condition: max hourly salary < max_hour\n",
    "    cond_max = (cond_max_wea) & (cond_max_hour)  # Combine conditions\n",
    "    \n",
    "    # Apply conditions to data\n",
    "    hourly_salary = hourly_salary[cond_max]    \n",
    "    total_wealth = total_wealth[cond_max]\n",
    "\n",
    "    # Create histogram\n",
    "    nb_obs = hourly_salary.size\n",
    "    hist, xedges, yedges = np.histogram2d(total_wealth, hourly_salary, bins=20)\n",
    "    hist = hist / nb_obs\n",
    "\n",
    "    X, Y = np.meshgrid((yedges[:-1] + yedges[1:]) / 2., (xedges[:-1] + xedges[1:]) / 2.)\n",
    "    \n",
    "    # Create plot\n",
    "    fig = plt.figure(figsize=(14, 10))\n",
    "    ax = fig.add_subplot(111, projection='3d')\n",
    "\n",
    "    ax.plot_wireframe(X, Y, hist, color='b')\n",
    "\n",
    "    ax.set_xlabel(r'hourly wage')\n",
    "    ax.set_ylabel(r'financial wealth')\n",
    "    ax.set_zlabel(r'probability mass for age %i' % age)\n",
    "    ax.set_title(r'number of observations %i' % nb_obs)\n",
    "    \n",
    "    plt.show();\n",
    "    \n",
    "\n",
    "age = widgets.IntSlider(min=df.refage.min(), max=df.refage.max(), step=1, value=25, description='age')\n",
    "max_wea = widgets.FloatSlider(min=0., max=1_000_000., step=100., value=500000., description='max_wea')\n",
    "max_hour = widgets.FloatSlider(min=0., max=200, step=10, value=100., description='max_hour')\n",
    "\n",
    "ui = widgets.HBox([age, max_wea, max_hour])\n",
    "    \n",
    "controls = {'age': age,\n",
    "           'max_wea': max_wea,\n",
    "           'max_hour': max_hour}\n",
    "\n",
    "hh = interactive_output(plot, controls)\n",
    "\n",
    "display(ui, hh)"
   ]
  }
 ],
 "metadata": {
  "kernelspec": {
   "display_name": "Python 3",
   "language": "python",
   "name": "python3"
  },
  "language_info": {
   "codemirror_mode": {
    "name": "ipython",
    "version": 3
   },
   "file_extension": ".py",
   "mimetype": "text/x-python",
   "name": "python",
   "nbconvert_exporter": "python",
   "pygments_lexer": "ipython3",
   "version": "3.7.7"
  }
 },
 "nbformat": 4,
 "nbformat_minor": 4
}
